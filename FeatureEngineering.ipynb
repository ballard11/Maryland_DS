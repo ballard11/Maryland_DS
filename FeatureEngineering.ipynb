{
 "cells": [
  {
   "cell_type": "code",
   "execution_count": 11,
   "id": "91a85d49-6fb1-4b7d-bdfb-6d7506d1e942",
   "metadata": {},
   "outputs": [],
   "source": [
    "import dash\n",
    "from dash import dcc, html\n",
    "import pandas as pd\n",
    "import plotly.express as px\n",
    "from dash.dependencies import Input, Output"
   ]
  },
  {
   "cell_type": "code",
   "execution_count": 13,
   "id": "2ab7102b-e83a-456d-a2a2-83e699e2457d",
   "metadata": {},
   "outputs": [
    {
     "name": "stderr",
     "output_type": "stream",
     "text": [
      "C:\\Users\\Ben\\AppData\\Local\\Temp\\ipykernel_11324\\2487984672.py:1: DtypeWarning: Columns (33,45) have mixed types. Specify dtype option on import or set low_memory=False.\n",
      "  df = pd.read_csv('C:\\\\Users\\\\Ben\\\\OneDrive\\\\Documents\\\\MarylandData\\\\Maryland_DS_Projects_Github\\\\Maryland_Statewide_Vehicle_Crashes.csv')\n"
     ]
    }
   ],
   "source": [
    "df = pd.read_csv('C:\\\\Users\\\\Ben\\\\OneDrive\\\\Documents\\\\MarylandData\\\\Maryland_DS_Projects_Github\\\\Maryland_Statewide_Vehicle_Crashes.csv')\n",
    "df_new = df[['YEAR', 'LIGHT_DESC', 'COUNTY_DESC', 'REPORT_TYPE', 'WEATHER_DESC', 'ACC_DATE', 'ACC_TIME', 'LATITUDE', 'LONGITUDE', 'JUNCTION_DESC']]"
   ]
  },
  {
   "cell_type": "code",
   "execution_count": 14,
   "id": "f1569f98-e78f-44f8-bd59-491b56233ad3",
   "metadata": {},
   "outputs": [
    {
     "name": "stderr",
     "output_type": "stream",
     "text": [
      "C:\\Users\\Ben\\AppData\\Local\\Temp\\ipykernel_11324\\2243531498.py:1: SettingWithCopyWarning: \n",
      "A value is trying to be set on a copy of a slice from a DataFrame.\n",
      "Try using .loc[row_indexer,col_indexer] = value instead\n",
      "\n",
      "See the caveats in the documentation: https://pandas.pydata.org/pandas-docs/stable/user_guide/indexing.html#returning-a-view-versus-a-copy\n",
      "  df_new['COUNTY_DESC'] = df_new['COUNTY_DESC'].str.replace(\"'\", \"\")\n"
     ]
    },
    {
     "data": {
      "text/plain": [
       "array(['Baltimore', 'Montgomery', 'Queen Annes', 'Baltimore City',\n",
       "       'Frederick', 'Cecil', 'Anne Arundel', 'Worcester', 'Dorchester',\n",
       "       'Charles', 'Prince Georges', 'Washington', 'Harford', 'Howard',\n",
       "       'Talbot', 'Wicomico', 'Kent', 'St. Marys', 'Calvert', 'Carroll',\n",
       "       'Garrett', 'Allegany', 'Caroline', 'Somerset', nan], dtype=object)"
      ]
     },
     "execution_count": 14,
     "metadata": {},
     "output_type": "execute_result"
    }
   ],
   "source": [
    "df_new['COUNTY_DESC'] = df_new['COUNTY_DESC'].str.replace(\"'\", \"\")\n",
    "df_new['COUNTY_DESC'].unique()"
   ]
  },
  {
   "cell_type": "markdown",
   "id": "432013d4-bde2-4aec-a799-f042b6685301",
   "metadata": {},
   "source": [
    "counties_to_keep = ['Anne Arundel', 'Prince Georges', 'Montgomery', \n",
    "                    'Howard','Queen Annes']\n",
    "\n",
    "#Filter to include only Counties\n",
    "df_new = df_new[df_new['COUNTY_DESC'].isin(counties_to_keep)]\n",
    "df_new['COUNTY_DESC'].unique()"
   ]
  },
  {
   "cell_type": "code",
   "execution_count": 15,
   "id": "a1aed221-0612-46e9-a7e8-ac550dc91411",
   "metadata": {},
   "outputs": [],
   "source": [
    "df_new.to_csv('DF_output.csv', index=False)"
   ]
  },
  {
   "cell_type": "code",
   "execution_count": 16,
   "id": "3cb7bd46-6380-49df-99e8-83b7ecc50eac",
   "metadata": {},
   "outputs": [],
   "source": [
    "#Should change this to Input - but should reference other code to figure out what Output is\n",
    "df = pd.read_csv('DF_output.csv')\n",
    "\n",
    "# Convert ACC_DATE to datetime format\n",
    "df['ACC_DATE'] = pd.to_datetime(df['ACC_DATE'], format='%Y%m%d')\n",
    "\n",
    "# Combine ACC_DATE and ACC_TIME into a single datetime column\n",
    "df['ACC_DATETIME'] = pd.to_datetime(df['ACC_DATE'].astype(str) + ' ' + df['ACC_TIME'])\n",
    "\n",
    "# Extract hour and month from ACC_DATETIME\n",
    "df['HOUR'] = df['ACC_DATETIME'].dt.hour\n",
    "df['MONTH'] = df['ACC_DATETIME'].dt.month\n",
    "df['DAY'] = df['ACC_DATETIME'].dt.dayofweek"
   ]
  },
  {
   "cell_type": "code",
   "execution_count": 17,
   "id": "8321d598-b2cc-4bab-9044-b8b723f7c45c",
   "metadata": {},
   "outputs": [],
   "source": [
    "# Pre-compute the data for the plots\n",
    "hourly_counts = df.groupby(['HOUR', 'COUNTY_DESC', 'REPORT_TYPE']).size().reset_index()\n",
    "hourly_counts.columns = ['HOUR', 'COUNTY_DESC', 'REPORT_TYPE', 'COUNT']\n",
    "county_counts = df.groupby(['COUNTY_DESC', 'REPORT_TYPE']).size().unstack(fill_value=0).reset_index()\n",
    "\n",
    "#For Long Term Trends\n",
    "daily_counts = df.groupby(['ACC_DATE', 'COUNTY_DESC']).size().reset_index()\n",
    "daily_counts['ACC_DATE'] = pd.to_datetime(daily_counts['ACC_DATE'])\n",
    "daily_counts.columns = ['ACC_DATE', 'COUNTY_DESC', 'COUNT']\n",
    "daily_counts.reset_index(inplace=True)\n",
    "daily_counts['day_of_year'] = daily_counts['ACC_DATE'].dt.dayofyear\n",
    "pre_covid = daily_counts[daily_counts['ACC_DATE'] < '2020-03-1']\n",
    "post_covid = daily_counts[daily_counts['ACC_DATE'] >= '2020-03-1']\n",
    "pre_covid_avg = pre_covid.groupby('day_of_year')['COUNT'].mean()\n",
    "post_covid = post_covid.merge(pre_covid_avg, on='day_of_year', how='left', suffixes=('_post', '_pre'))\n",
    "post_covid['percentage_of_pre_covid'] = (post_covid['COUNT_post'] / post_covid['COUNT_pre']) * 100\n",
    "post_covid['Day_of_Year'] = post_covid['ACC_DATE'].dt.dayofyear\n",
    "post_covid['Year'] = post_covid['ACC_DATE'].dt.year\n",
    "post_covid['percentage_of_pre_covid_smooth'] = post_covid['percentage_of_pre_covid'].rolling(window=30).mean()\n",
    "df.to_csv('DF_Output_Processed.csv', index=False)\n",
    "\n",
    "# Pre-compute the data for the plots\n",
    "monthly_counts = df.groupby(['MONTH', 'COUNTY_DESC', 'REPORT_TYPE']).size().reset_index()\n",
    "monthly_counts.columns = ['MONTH', 'COUNTY_DESC', 'REPORT_TYPE', 'COUNT']\n",
    "\n",
    "# Pre-compute the data for the plots\n",
    "daily_counts = df.groupby(['DAY', 'COUNTY_DESC', 'REPORT_TYPE']).size().reset_index()\n",
    "daily_counts.columns = ['DAY', 'COUNTY_DESC', 'REPORT_TYPE', 'COUNT']\n",
    "\n",
    "# In FeatureEngineering.ipynb\n",
    "hourly_counts.to_csv('assets/hourly_counts.csv', index=False)\n",
    "post_covid.to_csv('assets/post_covid.csv', index=False)\n",
    "county_counts.to_csv('assets/county_counts.csv', index=False)\n",
    "monthly_counts.to_csv('assets/monthly_counts.csv', index=False)\n",
    "daily_counts.to_csv('assets/daily_counts.csv', index=False)\n"
   ]
  },
  {
   "cell_type": "code",
   "execution_count": null,
   "id": "c6b66022-a27d-457f-af76-9efa386951fa",
   "metadata": {},
   "outputs": [],
   "source": []
  }
 ],
 "metadata": {
  "kernelspec": {
   "display_name": "Python 3 (ipykernel)",
   "language": "python",
   "name": "python3"
  },
  "language_info": {
   "codemirror_mode": {
    "name": "ipython",
    "version": 3
   },
   "file_extension": ".py",
   "mimetype": "text/x-python",
   "name": "python",
   "nbconvert_exporter": "python",
   "pygments_lexer": "ipython3",
   "version": "3.11.3"
  }
 },
 "nbformat": 4,
 "nbformat_minor": 5
}
