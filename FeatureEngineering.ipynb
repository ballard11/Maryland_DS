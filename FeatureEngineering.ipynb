{
 "cells": [
  {
   "cell_type": "code",
   "execution_count": 5,
   "id": "af1e2070-f4ad-430d-9cba-1e3273e031df",
   "metadata": {},
   "outputs": [],
   "source": [
    "import dash\n",
    "from dash import dcc, html\n",
    "import pandas as pd\n",
    "import plotly.express as px\n",
    "from dash.dependencies import Input, Output\n",
    "\n",
    "# Import the data\n",
    "#Should change this to Input - but should reference other code to figure out what Output is\n",
    "df = pd.read_csv('DF_output.csv')\n",
    "\n",
    "# Convert ACC_DATE to datetime format\n",
    "df['ACC_DATE'] = pd.to_datetime(df['ACC_DATE'], format='%Y%m%d')\n",
    "\n",
    "# Combine ACC_DATE and ACC_TIME into a single datetime column\n",
    "df['ACC_DATETIME'] = pd.to_datetime(df['ACC_DATE'].astype(str) + ' ' + df['ACC_TIME'])\n",
    "\n",
    "# Extract hour and month from ACC_DATETIME\n",
    "df['HOUR'] = df['ACC_DATETIME'].dt.hour\n",
    "df['MONTH'] = df['ACC_DATETIME'].dt.month\n",
    "df.to_csv('DF_Output_Processed.csv', index=False)\n"
   ]
  },
  {
   "cell_type": "markdown",
   "id": "10525161-4532-41b8-be69-8c495418ee39",
   "metadata": {},
   "source": [
    "# Time the Operations"
   ]
  },
  {
   "cell_type": "markdown",
   "id": "abdae81e-63da-41e3-b38e-2b3be7c97cbb",
   "metadata": {},
   "source": [
    "import time\n",
    "import dash\n",
    "from dash import dcc, html\n",
    "import pandas as pd\n",
    "import plotly.express as px\n",
    "from dash.dependencies import Input, Output\n",
    "\n",
    "start_time = time.time()\n",
    "\n",
    "# Import the data\n",
    "df = pd.read_csv('DF_output.csv')\n",
    "print(f'Time taken to import data: {time.time() - start_time} seconds')\n",
    "\n",
    "start_time = time.time()\n",
    "\n",
    "# Convert ACC_DATE to datetime format\n",
    "df['ACC_DATE'] = pd.to_datetime(df['ACC_DATE'], format='%Y%m%d')\n",
    "print(f'Time taken to convert ACC_DATE: {time.time() - start_time} seconds')\n",
    "\n",
    "start_time = time.time()\n",
    "\n",
    "# Combine ACC_DATE and ACC_TIME into a single datetime column\n",
    "df['ACC_DATETIME'] = pd.to_datetime(df['ACC_DATE'].astype(str) + ' ' + df['ACC_TIME'])\n",
    "print(f'Time taken to combine ACC_DATE and ACC_TIME: {time.time() - start_time} seconds')\n",
    "\n",
    "start_time = time.time()\n",
    "\n",
    "# Extract hour and month from ACC_DATETIME\n",
    "df['HOUR'] = df['ACC_DATETIME'].dt.hour\n",
    "df['MONTH'] = df['ACC_DATETIME'].dt.month\n",
    "print(f'Time taken to extract hour and month: {time.time() - start_time} seconds')\n",
    "\n",
    "start_time = time.time()\n",
    "\n",
    "df.to_csv('DF_Output_Processed.csv', index=False)\n",
    "print(f'Time taken to write to CSV: {time.time() - start_time} seconds')\n",
    "\n",
    "start_time = time.time()\n",
    "\n",
    "# Pre-compute the data for the plots\n",
    "hourly_counts = df.groupby(['HOUR', 'COUNTY_DESC', 'REPORT_TYPE']).size().reset_index()\n",
    "hourly_counts.columns = ['HOUR', 'COUNTY_DESC', 'REPORT_TYPE', 'COUNT']\n",
    "print(f'Time taken to compute hourly_counts: {time.time() - start_time} seconds')\n",
    "\n",
    "start_time = time.time()\n",
    "\n",
    "county_counts = df.groupby(['COUNTY_DESC', 'REPORT_TYPE']).size().unstack(fill_value=0).reset_index()\n",
    "print(f'Time taken to compute county_counts: {time.time() - start_time} seconds')"
   ]
  },
  {
   "cell_type": "code",
   "execution_count": null,
   "id": "cfe4c208-bb3b-4747-97b1-c263eb858d81",
   "metadata": {},
   "outputs": [],
   "source": []
  }
 ],
 "metadata": {
  "kernelspec": {
   "display_name": "Python 3",
   "language": "python",
   "name": "python3"
  },
  "language_info": {
   "codemirror_mode": {
    "name": "ipython",
    "version": 3
   },
   "file_extension": ".py",
   "mimetype": "text/x-python",
   "name": "python",
   "nbconvert_exporter": "python",
   "pygments_lexer": "ipython3",
   "version": "3.10.9"
  }
 },
 "nbformat": 4,
 "nbformat_minor": 5
}
